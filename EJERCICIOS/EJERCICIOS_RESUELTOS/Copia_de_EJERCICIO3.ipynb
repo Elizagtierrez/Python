{
  "cells": [
    {
      "cell_type": "markdown",
      "metadata": {
        "id": "LEhqBLr_AoBQ"
      },
      "source": [
        "# Ejercicio Listas\n",
        "Vamos a crear y manipular una lista que contiene nombres de alumnos, esta lista contedrá los nombres siguientes: 'Juan','Pedro','Beatriz','Angel','Miguel','Paz'"
      ]
    },
    {
      "cell_type": "code",
      "execution_count": null,
      "metadata": {
        "id": "AcQfG-AsAoBU",
        "outputId": "ca42e18e-dcce-4d30-bd56-837be289d709",
        "colab": {
          "base_uri": "https://localhost:8080/"
        }
      },
      "outputs": [
        {
          "output_type": "stream",
          "name": "stdout",
          "text": [
            "['Juan', 'Pedro', 'Beatriz', 'Angel', 'Miguel', 'Paz']\n"
          ]
        }
      ],
      "source": [
        "#Crea aqui la lista alumnos e imprime la lista\n",
        "alumnos = ['Juan','Pedro','Beatriz','Angel','Miguel','Paz']\n",
        "print(alumnos)"
      ]
    },
    {
      "cell_type": "markdown",
      "metadata": {
        "id": "fgdK7DUVAoBV"
      },
      "source": [
        "## Solicita al usuario el nombre de un alumno\n",
        "A continuación, agrega el código para solicitar al usuario un nombre. Debido a que las cadenas distinguen entre mayúsculas y minúsculas en Python, píde al usuario que use una letra mayúscula para comenzar el nombre del alumno."
      ]
    },
    {
      "cell_type": "code",
      "execution_count": null,
      "metadata": {
        "id": "cwqNhTAKAoBW",
        "outputId": "ba137120-aa71-4455-98af-ee1da2bd1012",
        "colab": {
          "base_uri": "https://localhost:8080/"
        }
      },
      "outputs": [
        {
          "name": "stdout",
          "output_type": "stream",
          "text": [
            "Ingresa el nombre del alumno, comenzando con Mayúscula: Tamara\n"
          ]
        }
      ],
      "source": [
        "# Aqui crea el código que ingresara elementos a la lista, ingresa tú nombre a la lista vía consola (usando input)\n",
        "alumnos.append(input('Ingresa el nombre del alumno, comenzando con mayúscula: '))"
      ]
    },
    {
      "cell_type": "code",
      "execution_count": null,
      "metadata": {
        "id": "SgEAwzkJAoBW",
        "outputId": "45245f4b-8c00-44dd-e2d9-5299486ebb81",
        "colab": {
          "base_uri": "https://localhost:8080/"
        }
      },
      "outputs": [
        {
          "output_type": "stream",
          "name": "stdout",
          "text": [
            "['Juan', 'Pedro', 'Beatriz', 'Angel', 'Miguel', 'Paz', 'Tamara', 'Tamara']\n"
          ]
        }
      ],
      "source": [
        "#imprime la lista para ver su contenido\n",
        "print(alumnos)"
      ]
    },
    {
      "cell_type": "markdown",
      "metadata": {
        "id": "7rq55VeEAoBX"
      },
      "source": [
        "## Solicita al usuario el nombre de un alumno a buscar en la lista\n",
        "A continuación, agrega el código para solicitar al usuario un nombre, igresa tu nombre."
      ]
    },
    {
      "cell_type": "code",
      "execution_count": null,
      "metadata": {
        "id": "rHcHitzpAoBX",
        "outputId": "a633e628-15b5-4c8b-e031-6fac734a75e2",
        "colab": {
          "base_uri": "https://localhost:8080/"
        }
      },
      "outputs": [
        {
          "name": "stdout",
          "output_type": "stream",
          "text": [
            "Ingresa el nombre del alumno a buscar, comenzando con letra mayúscula: Paz\n"
          ]
        }
      ],
      "source": [
        "# igresa aquí el código para solicitar se ingrese el nombre de un alumno a buscar(que sea tu nombre el que se va a buscar)\n",
        "alumno_a_buscar=input('Ingresa el nombre del alumno a buscar, comenzando con letra mayúscula: ')"
      ]
    },
    {
      "cell_type": "markdown",
      "metadata": {
        "id": "YY1zoNkyAoBY"
      },
      "source": [
        "\n",
        "### Encuentra el alumno en la lista\n",
        "Para determinar qué alumno están más cerca que el que ingresó el usuario, debes encontrar dónde está el usuario en la lista. Puedes utilizar index para realizar esta operación. Agrega el código para encontrar el índice del alumno. (ingresa algún alumno que este en la lista)"
      ]
    },
    {
      "cell_type": "code",
      "execution_count": null,
      "metadata": {
        "id": "ssCMNe66AoBY",
        "outputId": "2573ca94-9dfe-4b59-efc6-6bf694a022c2",
        "colab": {
          "base_uri": "https://localhost:8080/"
        }
      },
      "outputs": [
        {
          "output_type": "stream",
          "name": "stdout",
          "text": [
            "El alumno 5 se encuentra en la lista \n"
          ]
        }
      ],
      "source": [
        "# Busca el alumno en la lista e imprime la leyenda 'se ha encontrado al alumno (nombre del alumno)en la lista'\n",
        "\n",
        "alumno_index = alumnos.index(alumno_a_buscar)\n",
        "print('El alumno', alumno_index, 'se encuentra en la lista ')"
      ]
    },
    {
      "cell_type": "markdown",
      "metadata": {
        "id": "8slw1r7GAoBZ"
      },
      "source": [
        "# DICCIONARIOS\n",
        "Para este ejercicio, crearás un diccionario que almacene información sobre paises y su población.\n",
        "\n",
        "Agrega el código para crear un nuevo diccionario denominado 'paises'. Rellena con la siguiente información:\n",
        "\n",
        "pais: México\n",
        "\n",
        "habitantes: 127.5 "
      ]
    },
    {
      "cell_type": "code",
      "execution_count": null,
      "metadata": {
        "id": "PVYS6zmcAoBa"
      },
      "outputs": [],
      "source": [
        "\n",
        "# crea aqui el diccionario\n",
        "\n",
        "paises = {\n",
        "    'pais': 'México',\n",
        "    'habitantes':127.5 \n",
        "}\n"
      ]
    },
    {
      "cell_type": "markdown",
      "metadata": {
        "id": "xrbPkzTHAoBa"
      },
      "source": [
        "Para recuperar valores, puede utilizar el método get o corchetes ([ ]) con el nombre de la clave que desea recuperar."
      ]
    },
    {
      "cell_type": "code",
      "execution_count": null,
      "metadata": {
        "id": "yphYSCHiAoBa",
        "outputId": "d938c8cf-404e-4f3f-909d-83c4e2411381",
        "colab": {
          "base_uri": "https://localhost:8080/"
        }
      },
      "outputs": [
        {
          "output_type": "stream",
          "name": "stdout",
          "text": [
            "México tiene 127.5 millones de habitantes \n"
          ]
        }
      ],
      "source": [
        "# Muestra el nombre del pais y el número de millones de habitantes que tiene.\n",
        "# formato: México tiene 125.5 millones de habitantes\n",
        "print(f'{paises[\"pais\"]} tiene {paises[\"habitantes\"]} millones de habitantes ')\n"
      ]
    },
    {
      "cell_type": "markdown",
      "metadata": {
        "id": "Fm_ouHKEAoBb"
      },
      "source": [
        "Puedes actualizar las claves existentes o crear otras nuevas utilizando el método update o entre corchetes ([ ]). Cuando se usa update, se pasa un nuevo objeto de diccionario con los valores actualizados o nuevos. Cuando se usan corchetes, se especifica el nombre de la clave y se asigna un nuevo valor.\n",
        "\n",
        "Agrega un nuevo valor con una clave de 'datos'. Este nuevo valor debería almacenar un diccionario con dos datos del país:\n",
        "\n",
        "idioma: 'español'\n",
        "\n",
        "moneda: 'peso'"
      ]
    },
    {
      "cell_type": "code",
      "execution_count": null,
      "metadata": {
        "id": "N4MOfyZFAoBb"
      },
      "outputs": [],
      "source": [
        "#agrega aqui la clave de datos proporcionados\n",
        "paises[\"datos\"]={\n",
        "    'idioma':'español',\n",
        "    'moneda':'peso'\n",
        "}"
      ]
    },
    {
      "cell_type": "code",
      "execution_count": null,
      "metadata": {
        "id": "R0yM6XOZAoBc",
        "outputId": "1b6dcd18-cda8-44a0-e858-cfd58b55a6c9",
        "colab": {
          "base_uri": "https://localhost:8080/"
        }
      },
      "outputs": [
        {
          "output_type": "stream",
          "name": "stdout",
          "text": [
            "México tiene como moneda peso y como idioma español\n"
          ]
        }
      ],
      "source": [
        "# imprime el nombre del país con sus datos adicionales\n",
        "# formato: México tiene como moneda el pesoy como idioma el español\n",
        "print(f'{paises[\"pais\"]} tiene como moneda {paises[\"datos\"][\"moneda\"]} y como idioma {paises[\"datos\"][\"idioma\"]}')"
      ]
    },
    {
      "cell_type": "markdown",
      "metadata": {
        "id": "3TigLbqxAoBc"
      },
      "source": [
        "Recuerda: Lo importante es intentarlo, puedes auxiliarte del github, internet, libros, etc.\n"
      ]
    },
    {
      "cell_type": "markdown",
      "metadata": {
        "id": "-Qt1gEaqAoBc"
      },
      "source": [
        "## SOLUCION LISTAS\n",
        "Aqui esta la solución propuesta al ejercicio, recurre a ella no sin antes tratar de solucionar el ejercicio"
      ]
    },
    {
      "cell_type": "code",
      "execution_count": null,
      "metadata": {
        "id": "5YhxNeO8AoBc"
      },
      "outputs": [],
      "source": [
        "#Crea aqui la lista alumnos\n",
        "alumnos = ['Juan','Pedro','Beatriz','Angel','Miguel','Paz']\n",
        "print(alumnos)"
      ]
    },
    {
      "cell_type": "code",
      "execution_count": null,
      "metadata": {
        "id": "LMOpif2NAoBd"
      },
      "outputs": [],
      "source": [
        "# Aqui crea el código que ingresara elementos a la lista, ingresa tú nombres a la lista vía consola (usando input)\n",
        "alumnos.append(input('ingresa el nombre del alumno a ingresar, comenzado con mayúscula'))"
      ]
    },
    {
      "cell_type": "code",
      "execution_count": null,
      "metadata": {
        "id": "Zs827_BAAoBd"
      },
      "outputs": [],
      "source": [
        "#imprimimos la lista para comprobar se hayan ingresado los datos\n",
        "print(alumnos)"
      ]
    },
    {
      "cell_type": "code",
      "execution_count": null,
      "metadata": {
        "id": "FAZg-TdaAoBd"
      },
      "outputs": [],
      "source": [
        "# igresa aquí el código para solicitar se ingrese el nombre de un alumno a buscar\n",
        "alumno_a_buscar = input('Ingresa el nombre del alumno a buscar en la lista(primera letra en mayúscula)')"
      ]
    },
    {
      "cell_type": "code",
      "execution_count": null,
      "metadata": {
        "id": "eeJku3BlAoBd"
      },
      "outputs": [],
      "source": [
        "# Busca el alumno en la lista e imprime la leyenda 'se ha encontrado al alumno (nombre del alumno)en la lista'\n",
        "\n",
        "alumno_index = alumnos.index(alumno_a_buscar)\n",
        "print('El alumno ',alumno_a_buscar,' si esta en la lista' )"
      ]
    },
    {
      "cell_type": "markdown",
      "metadata": {
        "id": "XvBZpWuRAoBe"
      },
      "source": [
        "# SOLUCION DICCIONARIOS"
      ]
    },
    {
      "cell_type": "code",
      "execution_count": null,
      "metadata": {
        "id": "ZDp5GInaAoBe"
      },
      "outputs": [],
      "source": [
        "# crea aqui el diccionario\n",
        "paises = {\n",
        "    'pais': 'México',\n",
        "    'habitantes': 125.5\n",
        "}\n"
      ]
    },
    {
      "cell_type": "code",
      "execution_count": null,
      "metadata": {
        "id": "NCM5v7NBAoBe"
      },
      "outputs": [],
      "source": [
        "# Muestra el nombre del pais y el número de millones de habitantes que tiene.\n",
        "# formato: México tiene 125.5 millones de habitantes\n",
        "print(f'{paises[\"pais\"]} tiene {paises[\"habitantes\"]} millones de habitantes')"
      ]
    },
    {
      "cell_type": "code",
      "execution_count": null,
      "metadata": {
        "id": "vMkCOjIsAoBe"
      },
      "outputs": [],
      "source": [
        "#agrega aqui la clave de datos proporcionados\n",
        "paises['datos'] = {\n",
        "    'idioma': 'español',\n",
        "    'moneda': 'peso'\n",
        "}"
      ]
    },
    {
      "cell_type": "code",
      "execution_count": null,
      "metadata": {
        "id": "Bo4XMT8-AoBe"
      },
      "outputs": [],
      "source": [
        "# imprime el nombre del país con sus datos adicionales\n",
        "# formato: México tiene como moneda el pesoy como idioma el español\n",
        "print(f'{paises[\"pais\"]} tiene como moneda el {paises[\"datos\"][\"moneda\"]} y como idioma el {paises[\"datos\"][\"idioma\"]}')"
      ]
    }
  ],
  "metadata": {
    "kernelspec": {
      "display_name": "Python 3.10.2 64-bit",
      "language": "python",
      "name": "python3"
    },
    "language_info": {
      "codemirror_mode": {
        "name": "ipython",
        "version": 3
      },
      "file_extension": ".py",
      "mimetype": "text/x-python",
      "name": "python",
      "nbconvert_exporter": "python",
      "pygments_lexer": "ipython3",
      "version": "3.10.2"
    },
    "orig_nbformat": 4,
    "vscode": {
      "interpreter": {
        "hash": "8156a36ef2b5e5cc1ebda271ff76bc51e3d60fa787ad119300a3a2fb77f01d4c"
      }
    },
    "colab": {
      "name": "Copia de EJERCICIO3.ipynb",
      "provenance": []
    }
  },
  "nbformat": 4,
  "nbformat_minor": 0
}