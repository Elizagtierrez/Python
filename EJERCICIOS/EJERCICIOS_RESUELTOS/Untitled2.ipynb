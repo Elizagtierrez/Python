{
  "nbformat": 4,
  "nbformat_minor": 0,
  "metadata": {
    "colab": {
      "name": "Untitled2.ipynb",
      "provenance": []
    },
    "kernelspec": {
      "name": "python3",
      "display_name": "Python 3"
    },
    "language_info": {
      "name": "python"
    }
  },
  "cells": [
    {
      "cell_type": "markdown",
      "source": [
        "## Ejercicio 1\n",
        "Escribir una función que muestre por pantalla el saludo ¡Hola amiga(o)! cada vez que se la invoque."
      ],
      "metadata": {
        "id": "YWx64NiMIfdZ"
      }
    },
    {
      "cell_type": "code",
      "source": [
        "# Escribe aqui la función\n",
        "def saludo():\n",
        "    print('Hola amigo!')\n",
        "    return \n",
        "saludo()"
      ],
      "metadata": {
        "id": "3nkL6teLIvdl",
        "outputId": "3bbebc80-da9a-4cfe-f45b-78bdf0d69340",
        "colab": {
          "base_uri": "https://localhost:8080/"
        }
      },
      "execution_count": 3,
      "outputs": [
        {
          "output_type": "stream",
          "name": "stdout",
          "text": [
            "Hola amigo!\n"
          ]
        }
      ]
    },
    {
      "cell_type": "markdown",
      "source": [
        "## Ejercicio 2\n",
        "Escribir una función a la que se le pase una cadena nombre y muestre por pantalla el saludo ¡hola nombre!."
      ],
      "metadata": {
        "id": "Sx8CECVbI1oD"
      }
    },
    {
      "cell_type": "code",
      "source": [
        "# Escribe aqui la función\n",
        "def saludo(nombre):\n",
        "  print(f'Hola {nombre}')\n",
        "  return\n",
        "saludo('Riri')"
      ],
      "metadata": {
        "id": "ELoyrQj-JOyq",
        "outputId": "4e26cfac-64d2-404d-d568-450334678951",
        "colab": {
          "base_uri": "https://localhost:8080/"
        }
      },
      "execution_count": 4,
      "outputs": [
        {
          "output_type": "stream",
          "name": "stdout",
          "text": [
            "Hola Riri\n"
          ]
        }
      ]
    },
    {
      "cell_type": "markdown",
      "source": [
        "## Ejercicio 3\n",
        "Escribir una función que calcule el total de una factura tras aplicarle el IVA. La función debe recibir la cantidad sin IVA y el porcentaje de IVA a aplicar, y devolver el total de la factura. Si se invoca la función sin pasarle el porcentaje de IVA, deberá aplicar un 16%."
      ],
      "metadata": {
        "id": "Lm7Qo1eqJRGX"
      }
    },
    {
      "cell_type": "code",
      "source": [
        "# Escribe aqui la función\n",
        "def total(cantidad,iva=16):\n",
        "  return cantidad + cantidad*iva/100\n",
        "print(total(100,0))\n",
        "print(total(100))"
      ],
      "metadata": {
        "id": "-5uvJCB5KHSm",
        "outputId": "ccc1b494-a2e4-4eaf-bf7b-7f1e58334b60",
        "colab": {
          "base_uri": "https://localhost:8080/"
        }
      },
      "execution_count": 6,
      "outputs": [
        {
          "output_type": "stream",
          "name": "stdout",
          "text": [
            "100.0\n",
            "116.0\n"
          ]
        }
      ]
    },
    {
      "cell_type": "markdown",
      "source": [
        "## Ejercicio 4: Trabajar con argumentos en funciones\n",
        "Los argumentos requeridos en las funciones se utilizan cuando las funciones necesitan que esos argumentos funcionen correctamente.\n",
        "\n",
        "Comienza por crear una función que necesite tres lecturas de calificaciones y devuelva un informe:"
      ],
      "metadata": {
        "id": "KKiK1kZzVpm0"
      }
    },
    {
      "cell_type": "code",
      "source": [
        "# Función para leer 3 calificaciones y muestre el promedio\n",
        "def reporte(cal1, cal2, cal3):\n",
        "    promedio = (cal1 + cal2 + cal3) / 3\n",
        "    return f\"\"\"Reporte de calificaciones:\n",
        "    Promedio: {promedio}\n",
        "    calificación 1 : {cal1}\n",
        "    calificación 2: {cal2}\n",
        "    calificación 3: {cal3}\n",
        "    \"\"\""
      ],
      "metadata": {
        "id": "wrLfV98GVyyJ"
      },
      "execution_count": 7,
      "outputs": []
    },
    {
      "cell_type": "markdown",
      "source": [
        "Ahora que hemos definido la función de informes, vamos a comprobarlo. Las calificaciones serán 8,7,10"
      ],
      "metadata": {
        "id": "pBtVyatLV3CU"
      }
    },
    {
      "cell_type": "code",
      "source": [
        "# Llamamos a la función que genera el reporte print(funcion(cal1, cal2, cal3))\n",
        "print(reporte(8, 7, 10))"
      ],
      "metadata": {
        "id": "jrnr_SP3WOB1",
        "outputId": "8c59f017-da58-4deb-87ca-ee025759a91e",
        "colab": {
          "base_uri": "https://localhost:8080/"
        }
      },
      "execution_count": 8,
      "outputs": [
        {
          "output_type": "stream",
          "name": "stdout",
          "text": [
            "Reporte de calificaciones:\n",
            "    Promedio: 8.333333333333334\n",
            "    calificación 1 : 8\n",
            "    calificación 2: 7\n",
            "    calificación 3: 10\n",
            "    \n"
          ]
        }
      ]
    },
    {
      "cell_type": "markdown",
      "source": [
        "En lugar de simplemente crear el informe, la función también está calculando el promedio. Mejora la legibilidad extrayendo el cálculo promedio de la función en una nueva función para que el promedio se pueda hacer de forma independiente:"
      ],
      "metadata": {
        "id": "uvxEfXjBWe0g"
      }
    },
    {
      "cell_type": "code",
      "source": [
        "# Función promedio \n",
        "def prom(values):\n",
        "    total = sum(values)\n",
        "    numero_de_items = len(values)\n",
        "    return total / numero_de_items"
      ],
      "metadata": {
        "id": "paiWvAT6WlcH"
      },
      "execution_count": 9,
      "outputs": []
    },
    {
      "cell_type": "markdown",
      "source": [
        "Ahora actualiza la función de informes para llamando a la nueva función del promedio:"
      ],
      "metadata": {
        "id": "7_4M9H0eWoY9"
      }
    },
    {
      "cell_type": "code",
      "source": [
        "# Actualiza la función\n",
        "prom([8, 7, 10]) "
      ],
      "metadata": {
        "id": "FchdIDElWq6y",
        "outputId": "6c228163-773a-43b0-9229-0a550eec0ee9",
        "colab": {
          "base_uri": "https://localhost:8080/"
        }
      },
      "execution_count": 10,
      "outputs": [
        {
          "output_type": "execute_result",
          "data": {
            "text/plain": [
              "8.333333333333334"
            ]
          },
          "metadata": {},
          "execution_count": 10
        }
      ]
    },
    {
      "cell_type": "markdown",
      "source": [
        "## SOLUCION"
      ],
      "metadata": {
        "id": "K1koSJUpWs2L"
      }
    },
    {
      "cell_type": "code",
      "source": [
        ""
      ],
      "metadata": {
        "id": "vKjim4bVKXsI"
      },
      "execution_count": null,
      "outputs": []
    },
    {
      "cell_type": "markdown",
      "source": [
        "Ejercicio 3"
      ],
      "metadata": {
        "id": "sfHlRxh5KQBd"
      }
    },
    {
      "cell_type": "code",
      "source": [
        "def factura(monto, iva=16):\n",
        "    return monto + monto*iva/100\n",
        "\n",
        "print(factura(452,10))\n",
        "print(factura(452))"
      ],
      "metadata": {
        "id": "NFPdw8GxKTJ6"
      },
      "execution_count": null,
      "outputs": []
    },
    {
      "cell_type": "markdown",
      "source": [
        "Ejercicio 4"
      ],
      "metadata": {
        "id": "-FpkUlSzKWW-"
      }
    },
    {
      "cell_type": "code",
      "source": [
        "# Función para leer 3 calificaciones  y muestre el promedio\n",
        "\n",
        "def reporte(cal1, cal2, cal3):\n",
        "    promedio = (cal1 + cal2 + cal3) / 3\n",
        "    return f\"\"\"Reporte de calificaciones:\n",
        "    Promedio: {promedio}\n",
        "    calificación 1 : {cal1}\n",
        "    calificación 2: {cal2}\n",
        "    calificación 3: {cal3}\n",
        "    \"\"\""
      ],
      "metadata": {
        "id": "6LGs1rjdWvWr"
      },
      "execution_count": null,
      "outputs": []
    },
    {
      "cell_type": "code",
      "source": [
        "# Llamamos a la función que genera el reporte print(funcion(cal1, cal2, cal3))\n",
        "print(reporte(8, 7, 10))"
      ],
      "metadata": {
        "id": "h4z1Toa4Xgqn"
      },
      "execution_count": null,
      "outputs": []
    },
    {
      "cell_type": "code",
      "source": [
        "# Función promedio \n",
        "def prom(values):\n",
        "    total = sum(values)\n",
        "    numero_de_items = len(values)\n",
        "    return total / numero_de_items"
      ],
      "metadata": {
        "id": "9KEOg_xTYFKn"
      },
      "execution_count": null,
      "outputs": []
    },
    {
      "cell_type": "code",
      "source": [
        "prom([8, 7, 10]) "
      ],
      "metadata": {
        "id": "5-SPvHjcYZDB"
      },
      "execution_count": null,
      "outputs": []
    },
    {
      "cell_type": "code",
      "source": [
        "# Actualiza la función\n",
        "def reporte(cal1, cal2, cal3):\n",
        "    return f\"\"\" Reporte:\n",
        "    Total Average: {prom([cal1, cal2, cal3])}\n",
        "    calificacion 1: {cal1}\n",
        "    calificación 2: {cal2}\n",
        "    calificación 3: {cal3}\n",
        "    \"\"\"\n",
        "\n",
        "print(reporte(8, 7, 10))"
      ],
      "metadata": {
        "id": "nuzuxnh6Y-Vz"
      },
      "execution_count": null,
      "outputs": []
    }
  ]
}