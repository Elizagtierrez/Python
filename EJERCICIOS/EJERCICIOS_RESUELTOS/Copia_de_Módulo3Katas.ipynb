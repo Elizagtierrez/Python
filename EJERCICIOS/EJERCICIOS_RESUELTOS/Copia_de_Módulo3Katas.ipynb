{
  "cells": [
    {
      "cell_type": "markdown",
      "metadata": {
        "id": "ZE2X62n2UaHv"
      },
      "source": [
        "# Ejercicio - Escribir declaraciones `if`, `else`, y `elif`\n",
        "\n",
        "Las instrucciones `If` te permiten ejecutar condicionalmente código Python. Se usan comúnmente en Python para \"tomar decisiones\" sobre lo que debería suceder a continuación mientras se ejecuta un programa.\n",
        "\n",
        "Para crear una instrucción `if` en Python, define una expresión de prueba que pueda tener un valor `True` o `False`, seguido de un bloque de código con sangría que se ejecutará si se cumple la condición.  \n",
        "\n",
        "```python\n",
        "if expresion_prueba:\n",
        "    # intrucción(es) a ejecutar\n",
        "```\n",
        "\n",
        "Para escribir un programa con una lógica condicional más compleja, puedes agregar instrucciones `else` y `elif` al bloque de código. También puedes anidar instrucciones condicionales. \n",
        "\n",
        "\n",
        "```python\n",
        "if expresion_prueba:\n",
        "    # intrucción(es) a ejecutar\n",
        "    if expresion_prueba:\n",
        "        # intrucción(es) a ejecutar\n",
        "    else: \n",
        "        # intrucción(es) a ejecutar\n",
        "elif expresion_prueba:\n",
        "    # intrucción(es) a ejecutar\n",
        "else:\n",
        "    # intrucción(es) a ejecutar\n",
        "```\n",
        "\n",
        "> **TIP**\n",
        "> Dedica unos minutos a tratar de encontrar una solución. Luego desplázate hacia abajo hasta la parte inferior para ver si has logrado compilar el programa de acuerdo con las especificaciones.\n",
        "\n",
        "Para este ejercicio, escribirás una lógica condicional que imprima una advertencia si un auto se acerca a la caseta de cobro demasiado rápido. Cualquier velocidad superior a 100 kilómetros por hora (km/h) merece una advertencia.\n",
        "\n",
        "Un auto se acerca, y viaja a una velocidad de 90 km/h."
      ]
    },
    {
      "cell_type": "code",
      "source": [
        "n = 2\n",
        "if n == 2:\n",
        "  print('Verdadero')\n",
        "else:\n",
        "  print('Falso')"
      ],
      "metadata": {
        "id": "Um_qonIYIcap",
        "outputId": "f08a5547-abb6-4ef1-8121-0d74181dd595",
        "colab": {
          "base_uri": "https://localhost:8080/"
        }
      },
      "execution_count": null,
      "outputs": [
        {
          "output_type": "stream",
          "name": "stdout",
          "text": [
            "Verdadero\n"
          ]
        }
      ]
    },
    {
      "cell_type": "code",
      "execution_count": null,
      "metadata": {
        "id": "yFYpUCfmUaH6",
        "colab": {
          "base_uri": "https://localhost:8080/"
        },
        "outputId": "4bcfe02e-6ae7-4f2c-ea08-12636e11d400"
      },
      "outputs": [
        {
          "output_type": "stream",
          "name": "stdout",
          "text": [
            "¡Velocidad dentro del parámetro! 60 km/h\n"
          ]
        }
      ],
      "source": [
        "# Añadir el código necesario para crear una variable que guarde la velocidad del auto.\n",
        "# Escribe una expresión de prueba para calcular si necesita una advertencia.\n",
        "# Agregue las instrucciones que se ejecutarán si la expresión de prueba es true o false.\n",
        "vel_auto = 60\n",
        "if vel_auto > 100:\n",
        "    print('¡Alerta! ¡Un auto se acerca a velocidades peligrosas!',vel_auto,'km/h')\n",
        "else:\n",
        "    print('¡Velocidad dentro del parámetro!',vel_auto,'km/h')"
      ]
    },
    {
      "cell_type": "markdown",
      "metadata": {
        "id": "anSP8Y_wUaH8"
      },
      "source": [
        "Si un asteroide entra en la atmósfera de la Tierra a una velocidad mayor o igual a 20 km/s, se produce un rayo de luz que se puede ver desde la Tierra. Escribe la lógica condicional que usa declaraciones `if`, `else`, y `elif` para alertar a las personas de todo el mundo que deben buscar un asteroide en el cielo. ¡Hay uno que se dirige a la tierra ahora a una velocidad de 19 km/s!"
      ]
    },
    {
      "cell_type": "code",
      "execution_count": null,
      "metadata": {
        "id": "q8qGbBuVUaH9",
        "colab": {
          "base_uri": "https://localhost:8080/"
        },
        "outputId": "6666f8ed-5c43-49be-f920-66015b6129c5"
      },
      "outputs": [
        {
          "output_type": "stream",
          "name": "stdout",
          "text": [
            "No se vera el asterioide\n"
          ]
        }
      ],
      "source": [
        "# Agrega el código para crear una variable para un asteroide que viaja a 19 km/s\n",
        "# Escribe varias expresiones de prueba para determinar si puedes ver el rayo de luz desde la tierra\n",
        "# Agrega las instrucciones que se ejecutarán si las expresiones de prueba son True o False\n",
        "ast_vel = 19\n",
        "if ast_vel >= 20:\n",
        "  print('El rayo de luz se verá desde la tierra')\n",
        "elif ast_vel <= 20:\n",
        "  print('No se vera el asterioide')\n",
        "else:\n",
        " print('no hay asterioide') "
      ]
    },
    {
      "cell_type": "markdown",
      "metadata": {
        "id": "hAvIyAWBUaH-"
      },
      "source": [
        "# Ejercicio: Uso de operadores `and` y `or` \n",
        "\n",
        "En el ejercicio anterior, trabajó con sentencias `if`, `else`, y `elif` para escribir programas con lógica condicional compleja. Para crear expresiones booleanas aún más interesantes, puede usar los operadores `and` y `or` en Python.\n",
        "\n",
        "Las expresiones `and` son sólo si ambas subexpresiones son verdaderas.\n",
        "\n",
        "`expresión1 and expresión2`\n",
        "\n",
        "Las expresiones `or` son `True` si *al menos una* subexpresión es verdadera.\n",
        "\n",
        "`expresión1 or expresión2`\n",
        "\n",
        "En este ejercicio, aprenderás información más matizada sobre cuándo el consumo de alcohol representan un peligro para las personas, y utilizarás esa información para generar un sistema de advertencia. Aquí está la información que necesitas saber:\n",
        "\n",
        "* El consumo  de menos de 25 grados de alcohol no representra un daño para el cuerpo.\n",
        "* El consumo de hasta 40 genera una alerta.\n",
        "* Si se consume más 40 grados, causaría daño.\n",
        "\n",
        "También consideremos que:\n",
        "\n",
        "* Un peso mayor a 80 kg ayuda a umentar en 3 grados la tolerancia.\n",
        "\n",
        "Usando toda esta información, escribe un programa que emita la advertencia o información correcta a la gente en su consumo de alcohol. Utiliza instrucciones `if`, `else`, y `elif`, así como los operadores `and` y `or` y solicita al usuario ingrese la información necesaria para el cálculo vía consola."
      ]
    },
    {
      "cell_type": "code",
      "execution_count": null,
      "metadata": {
        "id": "iYEI7jI6UaIA",
        "colab": {
          "base_uri": "https://localhost:8080/"
        },
        "outputId": "9fab3895-b90a-4710-edce-b39319cca889"
      },
      "outputs": [
        {
          "output_type": "stream",
          "name": "stdout",
          "text": [
            "cuántos grados de alcohol consumiste?20\n",
            "cuántos kilos pesas?60\n",
            "Sigue así\n"
          ]
        }
      ],
      "source": [
        "# Agrega el código para crear nuevas variables para la cantidad de alcohol ingerid y el peso de la persona(solicita los datos por consola)\n",
        "# Para probar el código, prueba con varias cantidades y pesos\n",
        "\n",
        "consumo = int(input('cuántos grados de alcohol consumiste?'))\n",
        "peso = int(input('cuántos kilos pesas?'))\n",
        "if consumo > 40 and peso < 80:\n",
        "    print('¡Alerta, Has consumido una cantidad peligrosa!')\n",
        "elif consumo > 40 and peso > 80:\n",
        "    consumo = consumo - 3\n",
        "    if consumo > 40:\n",
        "      print('¡Alerta, Has consumido una cantidad peligrosa!')\n",
        "    else:\n",
        "      print('Todo ok!!!')\n",
        "elif consumo > 25 and consumo < 40:\n",
        "    print('Alerta!!!!')\n",
        "else:\n",
        "   consumo < 25\n",
        "   print('Sigue así')"
      ]
    },
    {
      "cell_type": "markdown",
      "metadata": {
        "id": "MaE5MnVZUaIB"
      },
      "source": [
        "## Soluciones"
      ]
    },
    {
      "cell_type": "markdown",
      "metadata": {
        "id": "ufm7YBdqUaIC"
      },
      "source": [
        "#### Problema No. 1"
      ]
    },
    {
      "cell_type": "code",
      "execution_count": null,
      "metadata": {
        "id": "VcqsGLSKUaID"
      },
      "outputs": [],
      "source": [
        "# Añadir el código necesario para crear una variable que guarde la velocidad del asteroide.\n",
        "# Escribe una expresión de prueba para calcular si necesita una advertencia.\n",
        "# Agregue las instrucciones que se ejecutarán si la expresión de prueba es true o false.\n",
        "\n",
        "vel_auto = 90\n",
        "if vel_auto > 100:\n",
        "    print('¡Alerta! ¡Un auto se acerca a velocidades peligrosas!',vel_auto,'km/h')\n",
        "else:\n",
        "    print('¡Velocidad dentro del parámetro!',vel_auto,'km/h')"
      ]
    },
    {
      "cell_type": "markdown",
      "metadata": {
        "id": "OaGYAX2rUaIG"
      },
      "source": [
        "#### Problema No. 2"
      ]
    },
    {
      "cell_type": "code",
      "execution_count": null,
      "metadata": {
        "id": "sRJoPXs9UaIH"
      },
      "outputs": [],
      "source": [
        "# Agrega el código para crear nuevas variables para la cantidad de alcohol ingerid y el peso de la persona(solicita los datos por consola)\n",
        "# Para probar el código, prueba con varias cantidades y pesos\n",
        "# Esta es solo una guia de la solución, corrige o aumenta lo necesario\n",
        "\n",
        "consumo = int(input('cuántos grados de alcohol consumiste?'))\n",
        "peso = int(input('cuántos kilos pesas?'))\n",
        "if consumo > 40 and peso < 80:\n",
        "    print('¡Alerta, Has consumido una cantidad peligrosa!')\n",
        "elif consumo > 40 and peso > 80:\n",
        "    consumo = consumo - 3\n",
        "    if consumo > 40:\n",
        "      print('¡Alerta, Has consumido una cantidad peligrosa!')\n",
        "    else:\n",
        "      print('Todo ok!!!')\n",
        "elif consumo > 25 and consumo < 40:\n",
        "    print('Alerta!!!!')\n",
        "else consumo < 25:\n",
        "    print('Sigue así')\n"
      ]
    }
  ],
  "metadata": {
    "interpreter": {
      "hash": "916dbcbb3f70747c44a77c7bcd40155683ae19c65e1c03b4aa3499c5328201f1"
    },
    "kernel_info": {
      "name": "conda-env-py37_default-py"
    },
    "kernelspec": {
      "display_name": "py37_default",
      "language": "python",
      "name": "python3"
    },
    "language_info": {
      "codemirror_mode": {
        "name": "ipython",
        "version": 3
      },
      "file_extension": ".py",
      "mimetype": "text/x-python",
      "name": "python",
      "nbconvert_exporter": "python",
      "pygments_lexer": "ipython3",
      "version": "3.8.10"
    },
    "nteract": {
      "version": "nteract-front-end@1.0.0"
    },
    "orig_nbformat": 4,
    "colab": {
      "name": "Copia de Módulo3Katas.ipynb",
      "provenance": []
    }
  },
  "nbformat": 4,
  "nbformat_minor": 0
}