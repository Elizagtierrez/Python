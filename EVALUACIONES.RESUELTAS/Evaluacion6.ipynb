{
 "cells": [
  {
   "cell_type": "code",
   "execution_count": 1,
   "metadata": {},
   "outputs": [
    {
     "name": "stdout",
     "output_type": "stream",
     "text": [
      "Lecturas recomendables:\n",
      "        Esperándolo a Tito y otros cuentos de fútbol (Eduardo Sacheri)\n",
      "        El juego de Ender (Orson Scott Card)\n",
      "        El sueño de los héroes (Adolfo Bioy Casares)\n",
      "Lecturas recomendables:\n",
      "        Esperándolo a Tito y otros cuentos de fútbol (Eduardo Sacheri)\n",
      "        El juego de Ender (Orson Scott Card)\n",
      "        El sueño de los héroes (Adolfo Bioy Casares)\n"
     ]
    }
   ],
   "source": [
    "#Realizar un ejemplo de menú, donde podemos escoger las distintas opciones hasta que seleccionamos la opción de “Salir”.\n",
    "#Menú de recomendaciones\n",
    "#Literatura,Cine,Música,Videojuegos,Salir\n",
    "#Al ingresar una opcion\n",
    "#opcion 1:\n",
    "#Lecturas recomendables:\n",
    "#Esperándolo a Tito y otros cuentos de fútbol (Eduardo Sacheri)\n",
    "#El juego de Ender (Orson Scott Card)\n",
    "#El sueño de los héroes (Adolfo Bioy Casares)\n",
    "#opcion 2:\n",
    "#Películas recomendables:\n",
    "#Matrix (1999)\n",
    "#El último samuray (2003)\n",
    "#Cars (2006)\n",
    "#opcion 3:\n",
    "#Discos recomendables:\n",
    "#Despedazado por mil partes (La Renga, 1996)\n",
    "#Búfalo (La Mississippi, 2008)\n",
    "#Gaia (Mago de Oz, 2003)\n",
    "#opcion 4:\n",
    "#Videojuegos clásicos recomendables\n",
    "#Día del tentáculo (LucasArts, 1993)\n",
    "#Terminal Velocity (Terminal Reality/3D Realms, 1995)\n",
    "#Death Rally (Remedy/Apogee, 1996)\n",
    "#opcion 5:\n",
    "#Gracias, vuelva prontos\n",
    "#Opción no válida, en caso de ingresar un número fuera de las opciones\n",
    "\n",
    "menu = []\n",
    "while True:\n",
    "    menu=int(input(\"\"\"Selecciona una opción ingresando el número de la opción:\n",
    "    Opción 1-Literatura\n",
    "    Opción 2-Cine\n",
    "    Opcion 3-Música\n",
    "    Opción 4-Videojuegos\n",
    "    Opción 5-Salir \"\"\"))\n",
    "    if menu == 1:\n",
    "        print(\"\"\"Lecturas recomendables:\n",
    "        Esperándolo a Tito y otros cuentos de fútbol (Eduardo Sacheri)\n",
    "        El juego de Ender (Orson Scott Card)\n",
    "        El sueño de los héroes (Adolfo Bioy Casares)\"\"\")\n",
    "    elif menu == 2:\n",
    "        print(\"\"\"Películas recomendables:\n",
    "        Matrix (1999)\n",
    "        El último samuray (2003)\n",
    "        Cars (2006)\"\"\")\n",
    "    elif menu == 3:\n",
    "        print(\"\"\"Discos recomendables:\n",
    "        Despedazado por mil partes (La Renga, 1996)\n",
    "        Búfalo (La Mississippi, 2008)\n",
    "        Gaia (Mago de Oz, 2003)\"\"\")\n",
    "    elif menu == 4:\n",
    "        print(\"\"\"Videojuegos clásicos recomendables:\n",
    "        Día del tentáculo (LucasArts, 1993)\n",
    "        Terminal Velocity (Terminal Reality/3D Realms, 1995)\n",
    "        Death Rally (Remedy/Apogee, 1996\"\"\")\n",
    "    elif menu == 5:\n",
    "        break\n",
    "    else:\n",
    "        break\n"
   ]
  },
  {
   "cell_type": "code",
   "execution_count": 5,
   "metadata": {},
   "outputs": [
    {
     "name": "stdout",
     "output_type": "stream",
     "text": [
      "1, 3, 5, 7, "
     ]
    }
   ],
   "source": [
    "#Ejercicio 2 (1.5 puntos)\n",
    "#Se pide por teclado un número y nos imprime los números primos que hay previos a este número.\n",
    "#Ejemplo: si ingresamos el 10 nos imprima del 1 a ese 10 cuales números son primos.\n",
    "\n",
    "num = int(input(\"Introduce un número: \"))\n",
    "for i in range(1, num+1, 2):\n",
    "    print(i, end=\", \")\n"
   ]
  },
  {
   "cell_type": "code",
   "execution_count": 24,
   "metadata": {},
   "outputs": [
    {
     "name": "stdout",
     "output_type": "stream",
     "text": [
      "MES 1 \n",
      "Pago: 10 €\n",
      "MES 2 \n",
      "Pago: 20 €\n",
      "MES 3 \n",
      "Pago: 30 €\n",
      "MES 4 \n",
      "Pago: 40 €\n",
      "MES 5 \n",
      "Pago: 50 €\n",
      "MES 6 \n",
      "Pago: 60 €\n",
      "MES 7 \n",
      "Pago: 70 €\n",
      "MES 8 \n",
      "Pago: 80 €\n",
      "MES 9 \n",
      "Pago: 90 €\n",
      "MES 10 \n",
      "Pago: 100 €\n",
      "MES 11 \n",
      "Pago: 110 €\n",
      "MES 12 \n",
      "Pago: 120 €\n",
      "MES 13 \n",
      "Pago: 130 €\n",
      "MES 14 \n",
      "Pago: 140 €\n",
      "MES 15 \n",
      "Pago: 150 €\n",
      "MES 16 \n",
      "Pago: 160 €\n",
      "MES 17 \n",
      "Pago: 170 €\n",
      "MES 18 \n",
      "Pago: 180 €\n",
      "MES 19 \n",
      "Pago: 190 €\n",
      "MES 20 \n",
      "Pago: 200 €\n",
      "Valor de total: 2100 \n"
     ]
    }
   ],
   "source": [
    "#Una persona adquirió un producto para pagar en 20 meses. \n",
    "#El primer mes pagó 10 €, el segundo 20 €, el tercero 40 € y así sucesivamente. \n",
    "# Realizar un algoritmo para determinar cuánto debe pagar mensualmente y el total de lo que pagó después de los 20 meses.\n",
    "#Al finalizar los 20 meses pago en total:\n",
    "#primer mes pago 10, segundo mes pago 20, tercer mes pago 30, cuarto mes pago 40, etc.\n",
    "\n",
    "total = 0 #Creamos nuestra variable total que es igual a 0\n",
    "#Recorremos la lista con for el indice en un rango de 1 al 20\n",
    "for i in range (1, 21):\n",
    "    print ('MES %d ' % i)#asignamos valores\n",
    "#Condicional \n",
    "    if i==1: \n",
    "        pago=10\n",
    "#Suma de 10 en 10 en cada mes en la variable pago\n",
    "    else:\n",
    "        pago=pago+10\n",
    "#Variable de la suma total\n",
    "    total=total+pago\n",
    "    print ('Pago: %d €' % pago)\n",
    "print ('Valor de total: %d ' % total)"
   ]
  }
 ],
 "metadata": {
  "interpreter": {
   "hash": "31f2aee4e71d21fbe5cf8b01ff0e069b9275f58929596ceb00d14d90e3e16cd6"
  },
  "kernelspec": {
   "display_name": "Python 3.8.9 64-bit",
   "language": "python",
   "name": "python3"
  },
  "language_info": {
   "codemirror_mode": {
    "name": "ipython",
    "version": 3
   },
   "file_extension": ".py",
   "mimetype": "text/x-python",
   "name": "python",
   "nbconvert_exporter": "python",
   "pygments_lexer": "ipython3",
   "version": "3.8.9"
  },
  "orig_nbformat": 4
 },
 "nbformat": 4,
 "nbformat_minor": 2
}
