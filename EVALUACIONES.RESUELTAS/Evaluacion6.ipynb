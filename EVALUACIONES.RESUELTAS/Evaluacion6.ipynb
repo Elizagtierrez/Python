{
 "cells": [
  {
   "cell_type": "code",
   "execution_count": 1,
   "metadata": {},
   "outputs": [
    {
     "name": "stdout",
     "output_type": "stream",
     "text": [
      "Lecturas recomendables:\n",
      "        Esperándolo a Tito y otros cuentos de fútbol (Eduardo Sacheri)\n",
      "        El juego de Ender (Orson Scott Card)\n",
      "        El sueño de los héroes (Adolfo Bioy Casares)\n",
      "Lecturas recomendables:\n",
      "        Esperándolo a Tito y otros cuentos de fútbol (Eduardo Sacheri)\n",
      "        El juego de Ender (Orson Scott Card)\n",
      "        El sueño de los héroes (Adolfo Bioy Casares)\n"
     ]
    }
   ],
   "source": [
    "#Realizar un ejemplo de menú, donde podemos escoger las distintas opciones hasta que seleccionamos la opción de “Salir”.\n",
    "#Menú de recomendaciones\n",
    "#Literatura,Cine,Música,Videojuegos,Salir\n",
    "#Al ingresar una opcion\n",
    "#opcion 1:\n",
    "#Lecturas recomendables:\n",
    "#Esperándolo a Tito y otros cuentos de fútbol (Eduardo Sacheri)\n",
    "#El juego de Ender (Orson Scott Card)\n",
    "#El sueño de los héroes (Adolfo Bioy Casares)\n",
    "#opcion 2:\n",
    "#Películas recomendables:\n",
    "#Matrix (1999)\n",
    "#El último samuray (2003)\n",
    "#Cars (2006)\n",
    "#opcion 3:\n",
    "#Discos recomendables:\n",
    "#Despedazado por mil partes (La Renga, 1996)\n",
    "#Búfalo (La Mississippi, 2008)\n",
    "#Gaia (Mago de Oz, 2003)\n",
    "#opcion 4:\n",
    "#Videojuegos clásicos recomendables\n",
    "#Día del tentáculo (LucasArts, 1993)\n",
    "#Terminal Velocity (Terminal Reality/3D Realms, 1995)\n",
    "#Death Rally (Remedy/Apogee, 1996)\n",
    "#opcion 5:\n",
    "#Gracias, vuelva prontos\n",
    "#Opción no válida, en caso de ingresar un número fuera de las opciones\n",
    "\n",
    "menu = []\n",
    "while True:\n",
    "    menu=int(input(\"\"\"Selecciona una opción ingresando el número de la opción:\n",
    "    Opción 1-Literatura\n",
    "    Opción 2-Cine\n",
    "    Opcion 3-Música\n",
    "    Opción 4-Videojuegos\n",
    "    Opción 5-Salir \"\"\"))\n",
    "    if menu == 1:\n",
    "        print(\"\"\"Lecturas recomendables:\n",
    "        Esperándolo a Tito y otros cuentos de fútbol (Eduardo Sacheri)\n",
    "        El juego de Ender (Orson Scott Card)\n",
    "        El sueño de los héroes (Adolfo Bioy Casares)\"\"\")\n",
    "    elif menu == 2:\n",
    "        print(\"\"\"Películas recomendables:\n",
    "        Matrix (1999)\n",
    "        El último samuray (2003)\n",
    "        Cars (2006)\"\"\")\n",
    "    elif menu == 3:\n",
    "        print(\"\"\"Discos recomendables:\n",
    "        Despedazado por mil partes (La Renga, 1996)\n",
    "        Búfalo (La Mississippi, 2008)\n",
    "        Gaia (Mago de Oz, 2003)\"\"\")\n",
    "    elif menu == 4:\n",
    "        print(\"\"\"Videojuegos clásicos recomendables:\n",
    "        Día del tentáculo (LucasArts, 1993)\n",
    "        Terminal Velocity (Terminal Reality/3D Realms, 1995)\n",
    "        Death Rally (Remedy/Apogee, 1996\"\"\")\n",
    "    elif menu == 5:\n",
    "        break\n",
    "    else:\n",
    "        break\n"
   ]
  },
  {
   "cell_type": "code",
   "execution_count": 5,
   "metadata": {},
   "outputs": [
    {
     "name": "stdout",
     "output_type": "stream",
     "text": [
      "1, 3, 5, 7, "
     ]
    }
   ],
   "source": [
    "#Ejercicio 2 (1.5 puntos)\n",
    "#Se pide por teclado un número y nos imprime los números primos que hay previos a este número.\n",
    "#Ejemplo: si ingresamos el 10 nos imprima del 1 a ese 10 cuales números son primos.\n",
    "\n",
    "num = int(input(\"Introduce un número: \"))\n",
    "for i in range(1, num+1, 2):\n",
    "    print(i, end=\", \")\n"
   ]
  }
 ],
 "metadata": {
  "interpreter": {
   "hash": "31f2aee4e71d21fbe5cf8b01ff0e069b9275f58929596ceb00d14d90e3e16cd6"
  },
  "kernelspec": {
   "display_name": "Python 3.8.9 64-bit",
   "language": "python",
   "name": "python3"
  },
  "language_info": {
   "codemirror_mode": {
    "name": "ipython",
    "version": 3
   },
   "file_extension": ".py",
   "mimetype": "text/x-python",
   "name": "python",
   "nbconvert_exporter": "python",
   "pygments_lexer": "ipython3",
   "version": "3.8.9"
  },
  "orig_nbformat": 4
 },
 "nbformat": 4,
 "nbformat_minor": 2
}
