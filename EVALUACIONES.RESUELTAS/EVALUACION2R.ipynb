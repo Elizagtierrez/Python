{
 "cells": [
  {
   "cell_type": "code",
   "execution_count": 2,
   "metadata": {},
   "outputs": [
    {
     "name": "stdout",
     "output_type": "stream",
     "text": [
      "400 grados Fahrenheit son 204.44444444444446 grados Celsius \n"
     ]
    }
   ],
   "source": [
    "##Práctica 2. 6 puntos\n",
    "##2 Práctica 2. Números enteros y reales.\n",
    "#Realiza los ejercicios de acuerdo a las indicaciones\n",
    "#2.1 Ejercicio 1 (1.5 puntos)\n",
    "#Escribir un programa que convierta un valor dado en grados Fahrenheit a grados Celsius.\n",
    "dato1 = int(input('Ingrese una temperatura en grados Fahrenheit: '))\n",
    "celsius = (dato1 - 32) * 5/9\n",
    "# Hacemos uso de la funcion str.format() para darle formato a nuestra respuesta\n",
    "print('{} grados Fahrenheit son {} grados Celsius '.format(dato1, celsius))\n",
    "   "
   ]
  },
  {
   "cell_type": "code",
   "execution_count": 3,
   "metadata": {},
   "outputs": [
    {
     "name": "stdout",
     "output_type": "stream",
     "text": [
      "la suma de los dos números dados es: 10 \n",
      "la resta de los dos números es: 4 \n",
      "la multipliacación de los dos números es: 21 \n",
      "la división entre los dos números es: 2.3333333333333335\n"
     ]
    }
   ],
   "source": [
    "#2.2 Ejercicio 2 (1.5 puntos)\n",
    "#Dados dos números, mostrar la suma, resta, división y multiplicación de ambos.\n",
    "num_1 = int(input('Ingrese un número: '))\n",
    "num_2 = int(input('Ingrese el segundo número: '))\n",
    "suma = num_1 + num_2\n",
    "resta = num_1 - num_2\n",
    "multi = num_1 * num_2\n",
    "divi = num_1 / num_2\n",
    "print('la suma de los dos números dados es: {} \\nla resta de los dos números es: {} \\nla multipliacación de los dos números es: {} \\nla división entre los dos números es: {}'.format(suma,resta,multi,divi))"
   ]
  },
  {
   "cell_type": "code",
   "execution_count": 4,
   "metadata": {},
   "outputs": [
    {
     "name": "stdout",
     "output_type": "stream",
     "text": [
      "Resultado: el perímetro del triángulo es 19 cm.\n",
      "Resultado: el área del triángulo es 24.5 cm2.\n"
     ]
    }
   ],
   "source": [
    "#2.3 Ejercicio 3 (1.5 puntos)\n",
    "#Calcular el perímetro y área de un rectángulo dada su base y su altura. Respuesta:\n",
    "lado1 = int(input('Ingrese la medida del primer lado del triángulo en centímetros: '))\n",
    "lado2 = int(input('Ingrese la medida del segundo lado del triángulo en centímetros: '))\n",
    "lado3 = int(input('Ingrese la medida del tercer lado del triángulo en centímetros: '))\n",
    "peri = lado1 + lado2 + lado3\n",
    "print('Resultado: el perímetro del triángulo es {} cm.'.format(peri))\n",
    "base = int(input('Ingrese la medida de la base del triángulo en centímetros: '))\n",
    "altura = int(input('Ingrese la medida de la altura del triángulo en centímetros: '))\n",
    "area = (base * altura) / 2\n",
    "print('Resultado: el área del triángulo es {} cm2.'.format(area))"
   ]
  }
 ],
 "metadata": {
  "interpreter": {
   "hash": "676b49eb53a8bf5d8d3b13d60417e167472df5aaf53d887583b7865427312a7f"
  },
  "kernelspec": {
   "display_name": "Python 3.9.7",
   "language": "python",
   "name": "python3"
  },
  "language_info": {
   "codemirror_mode": {
    "name": "ipython",
    "version": 3
   },
   "file_extension": ".py",
   "mimetype": "text/x-python",
   "name": "python",
   "nbconvert_exporter": "python",
   "pygments_lexer": "ipython3",
   "version": "3.9.7"
  },
  "orig_nbformat": 4
 },
 "nbformat": 4,
 "nbformat_minor": 2
}
