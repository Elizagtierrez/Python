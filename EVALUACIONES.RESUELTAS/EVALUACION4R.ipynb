{
  "cells": [
    {
      "cell_type": "markdown",
      "metadata": {
        "id": "RAjO8EEBj_iA"
      },
      "source": [
        "Realizar un programa que inicialice una lista con 10 valores aleatorios (del 1 al 10)\n",
        "y posteriormente muestre en pantalla cada elemento de la lista junto con su\n",
        "cuadrado y su cubo.\n",
        "Respuesta:"
      ]
    },
    {
      "cell_type": "code",
      "execution_count": 1,
      "metadata": {
        "id": "YvGs_32djyVT"
      },
      "outputs": [
        {
          "name": "stdout",
          "output_type": "stream",
          "text": [
            "5   25   125\n",
            "4   16   64\n",
            "1   1   1\n",
            "10   100   1000\n",
            "1   1   1\n",
            "9   81   729\n",
            "7   49   343\n",
            "10   100   1000\n",
            "5   25   125\n",
            "8   64   512\n"
          ]
        }
      ],
      "source": [
        "import random # generar los números aleatorios\n",
        "lista_numeros = [] # la lista donde se guardarán\n",
        "# For para leer la lista\n",
        "for indice in range(1,11):\n",
        "  lista_numeros.append(random.randint(1,10)) #agregamos los valores a lista con .append\n",
        "## Segundo recorrido para mostrar el resultado\n",
        "for numero in lista_numeros:\n",
        "  print(numero,\" \",numero ** 2,\" \",numero ** 3) "
      ]
    },
    {
      "cell_type": "markdown",
      "metadata": {
        "id": "dzB_AvoOkxAu"
      },
      "source": [
        "Crea una lista e inicializarla con 5 cadenas de caracteres leídas por teclado. Copia\n",
        "los elementos de la lista en otra lista pero en orden inverso, y muestra sus\n",
        "elementos por la pantalla.\n",
        "Respuesta:"
      ]
    },
    {
      "cell_type": "code",
      "execution_count": 2,
      "metadata": {
        "id": "LAUdlEL-k0Lq"
      },
      "outputs": [
        {
          "name": "stdout",
          "output_type": "stream",
          "text": [
            "908\n",
            "546\n",
            "789\n",
            "456\n",
            "123\n"
          ]
        }
      ],
      "source": [
        "lista1 = [] #la primera lista\n",
        "lista2 = []  #la segunda lista\n",
        "# Recorro la lista1 y leo cada elemento por teclado.\n",
        "for indice in range(1,6):\n",
        "  lista1.append(input(\"Dame la cadena %d:\" % indice))#%d ulizamso para asignar el valor de número entero del indice\n",
        "# Copio la lista1 en la lista2 en orden inverso\n",
        "  lista2 = lista1[::-1] # :: utilizamos para que recorra de inicio a fin empezando con -1 desde el final\n",
        "# Recorro el vector2 para mostrarlo\n",
        "for cadena in lista2:\n",
        "  print(cadena)"
      ]
    },
    {
      "cell_type": "markdown",
      "metadata": {
        "id": "wwvWc5dHleWj"
      },
      "source": [
        "Se quiere realizar un programa que lea por teclado las 5 notas obtenidas por un\n",
        "alumno (comprendidas entre 0 y 10). A continuación debe mostrar todas las notas,\n",
        "la nota media, la nota más alta que ha sacado y la menor."
      ]
    },
    {
      "cell_type": "code",
      "execution_count": 3,
      "metadata": {
        "id": "BAeW_8x9lk6u"
      },
      "outputs": [
        {
          "name": "stdout",
          "output_type": "stream",
          "text": [
            "Notas: \n",
            "-----------------------------------\n",
            "Nota media:  7.8\n",
            "Nota max:  9\n",
            "Nota min:  6\n"
          ]
        }
      ],
      "source": [
        "\n",
        "notas = []#creamos lista\n",
        "cont=1 #contador de las veces a pedir calificación\n",
        "while cont<6: #miestras sea menos a 6\n",
        "    nota = int(input(\"Introduce la nota %i:\" % cont))#asignamos el número del contador \n",
        "    if nota>=0 and nota<=10: #condicional\n",
        "      cont=cont+1 #pide otra nota\n",
        "      notas.append(nota) #se agregan a la lista\n",
        "    else:\n",
        "      print('formato icorrecto, ingresa de nuevo la calificación')\n",
        "      # Muestro resultados\n",
        "print('Notas: ')\n",
        "print('-----------------------------------')\n",
        "print(\"Nota media: \",sum(notas)/len(notas)) #se hace la media de las notas\n",
        "print(\"Nota max: \",max(notas)) #maximo de las notas\n",
        "print(\"Nota min: \",min(notas))#minimo de las notas"
      ]
    },
    {
      "cell_type": "markdown",
      "metadata": {
        "id": "vzmcge2PpCH5"
      },
      "source": [
        "Codifica un programa en python que nos permita guardar los nombres de los\n",
        "alumnos de una clase y las notas que han obtenido. Cada alumno puede tener\n",
        "distinta cantidad de notas. Guarda la información en un diccionario cuya claves\n",
        "serán los nombres de los alumnos y los valores serán listados con las notas de\n",
        "cada alumno.\n",
        "\n",
        "El programa pedirá el número de alumnos que vamos a introducir, pedirá su\n",
        "nombre e irá pidiendo sus notas hasta que introduzcamos un número negativo. Al\n",
        "final el programa nos mostrará la lista de alumnos y la nota media obtenida por\n",
        "cada uno de ellos. Nota: si se introduce el nombre de un alumno que ya existe el\n",
        "programa nos dará un error."
      ]
    },
    {
      "cell_type": "code",
      "execution_count": 4,
      "metadata": {
        "id": "sHGwcyfNpVeO"
      },
      "outputs": [
        {
          "name": "stdout",
          "output_type": "stream",
          "text": [
            "daniel ha sacado de nota media 7.000000\n",
            "daniel ha sacado de nota media 8.000000\n",
            "Cesar ha sacado de nota media 8.000000\n"
          ]
        }
      ],
      "source": [
        "alumnos = {} #creamos diccionario de alumnos\n",
        "notas=[] #lista de notas\n",
        "cantidad = int(input(\"Introduce la cantidad de alumnos que vamos a guardar:\")) #pedimos la cantidad de notas\n",
        "#recorrido en el rango que introduce la cantidad de notas\n",
        "for num in range(cantidad): \n",
        "    alumno = input(\"Nombre del alumno:\")\n",
        "    #agregamos un bucle para la inf del alumno, si el alumno exista, ingresa un alumno y su nota\n",
        "    while alumno in alumnos:\n",
        "      print(\"Alumno ya existe.\")\n",
        "      alumno = input(\"Nombre del alumno:\")\n",
        "    nota = int(input(\"Dame una nota del alumno (negativo para terminar):\"))\n",
        "    #segundo bucle para agregar notas, y nota negativa para terminar\n",
        "    while nota > 0:\n",
        "      notas.append(nota)\n",
        "      nota = int(input(\"Dame una nota del alumno (negativo para terminar):\"))\n",
        "      alumnos[alumno] = notas.copy()\n",
        "    for alumno, notas in alumnos.items():\n",
        "      print(\"%s ha sacado de nota media %f\" % (alumno,sum(notas)/len(notas)))"
      ]
    },
    {
      "cell_type": "markdown",
      "metadata": {
        "id": "nJXZCE6aqxvM"
      },
      "source": [
        "Crea una tupla con los meses del año, pide números al usuario, si el número está\n",
        "entre 1 y la longitud máxima de la tupla, muestra el contenido de esa posición sino\n",
        "muestra un mensaje de error. El programa termina cuando el usuario introduce un\n",
        "cero."
      ]
    },
    {
      "cell_type": "code",
      "execution_count": 5,
      "metadata": {
        "id": "rEN3PQh9q2Zh"
      },
      "outputs": [
        {
          "name": "stdout",
          "output_type": "stream",
          "text": [
            "Junio\n",
            "Septiembre\n",
            "Septiembre\n",
            "Noviembre\n",
            "Inserta un número entre 1 y  12\n"
          ]
        },
        {
          "ename": "KeyboardInterrupt",
          "evalue": "Interrupted by user",
          "output_type": "error",
          "traceback": [
            "\u001b[0;31m---------------------------------------------------------------------------\u001b[0m",
            "\u001b[0;31mKeyboardInterrupt\u001b[0m                         Traceback (most recent call last)",
            "\u001b[1;32m/Users/Octavio/Downloads/EVALUACION4.ipynb Cell 10'\u001b[0m in \u001b[0;36m<cell line: 7>\u001b[0;34m()\u001b[0m\n\u001b[1;32m     <a href='vscode-notebook-cell:/Users/Octavio/Downloads/EVALUACION4.ipynb#ch0000009?line=10'>11</a>\u001b[0m   \u001b[39melse\u001b[39;00m:\n\u001b[1;32m     <a href='vscode-notebook-cell:/Users/Octavio/Downloads/EVALUACION4.ipynb#ch0000009?line=11'>12</a>\u001b[0m     \u001b[39mprint\u001b[39m(\u001b[39m\"\u001b[39m\u001b[39mInserta un número entre 1 y \u001b[39m\u001b[39m\"\u001b[39m,\u001b[39mlen\u001b[39m(meses))\n\u001b[0;32m---> <a href='vscode-notebook-cell:/Users/Octavio/Downloads/EVALUACION4.ipynb#ch0000009?line=12'>13</a>\u001b[0m     numero \u001b[39m=\u001b[39m \u001b[39mint\u001b[39m(\u001b[39minput\u001b[39;49m(\u001b[39m\"\u001b[39;49m\u001b[39mDame un numero: \u001b[39;49m\u001b[39m\"\u001b[39;49m))\n\u001b[1;32m     <a href='vscode-notebook-cell:/Users/Octavio/Downloads/EVALUACION4.ipynb#ch0000009?line=13'>14</a>\u001b[0m \u001b[39melse\u001b[39;00m:\n\u001b[1;32m     <a href='vscode-notebook-cell:/Users/Octavio/Downloads/EVALUACION4.ipynb#ch0000009?line=14'>15</a>\u001b[0m   \u001b[39mprint\u001b[39m(\u001b[39m'\u001b[39m\u001b[39madios\u001b[39m\u001b[39m'\u001b[39m)\n",
            "File \u001b[0;32m~/Library/Python/3.8/lib/python/site-packages/ipykernel/kernelbase.py:1177\u001b[0m, in \u001b[0;36mKernel.raw_input\u001b[0;34m(self, prompt)\u001b[0m\n\u001b[1;32m   <a href='file:///Users/Octavio/Library/Python/3.8/lib/python/site-packages/ipykernel/kernelbase.py?line=1172'>1173</a>\u001b[0m \u001b[39mif\u001b[39;00m \u001b[39mnot\u001b[39;00m \u001b[39mself\u001b[39m\u001b[39m.\u001b[39m_allow_stdin:\n\u001b[1;32m   <a href='file:///Users/Octavio/Library/Python/3.8/lib/python/site-packages/ipykernel/kernelbase.py?line=1173'>1174</a>\u001b[0m     \u001b[39mraise\u001b[39;00m StdinNotImplementedError(\n\u001b[1;32m   <a href='file:///Users/Octavio/Library/Python/3.8/lib/python/site-packages/ipykernel/kernelbase.py?line=1174'>1175</a>\u001b[0m         \u001b[39m\"\u001b[39m\u001b[39mraw_input was called, but this frontend does not support input requests.\u001b[39m\u001b[39m\"\u001b[39m\n\u001b[1;32m   <a href='file:///Users/Octavio/Library/Python/3.8/lib/python/site-packages/ipykernel/kernelbase.py?line=1175'>1176</a>\u001b[0m     )\n\u001b[0;32m-> <a href='file:///Users/Octavio/Library/Python/3.8/lib/python/site-packages/ipykernel/kernelbase.py?line=1176'>1177</a>\u001b[0m \u001b[39mreturn\u001b[39;00m \u001b[39mself\u001b[39;49m\u001b[39m.\u001b[39;49m_input_request(\n\u001b[1;32m   <a href='file:///Users/Octavio/Library/Python/3.8/lib/python/site-packages/ipykernel/kernelbase.py?line=1177'>1178</a>\u001b[0m     \u001b[39mstr\u001b[39;49m(prompt),\n\u001b[1;32m   <a href='file:///Users/Octavio/Library/Python/3.8/lib/python/site-packages/ipykernel/kernelbase.py?line=1178'>1179</a>\u001b[0m     \u001b[39mself\u001b[39;49m\u001b[39m.\u001b[39;49m_parent_ident[\u001b[39m\"\u001b[39;49m\u001b[39mshell\u001b[39;49m\u001b[39m\"\u001b[39;49m],\n\u001b[1;32m   <a href='file:///Users/Octavio/Library/Python/3.8/lib/python/site-packages/ipykernel/kernelbase.py?line=1179'>1180</a>\u001b[0m     \u001b[39mself\u001b[39;49m\u001b[39m.\u001b[39;49mget_parent(\u001b[39m\"\u001b[39;49m\u001b[39mshell\u001b[39;49m\u001b[39m\"\u001b[39;49m),\n\u001b[1;32m   <a href='file:///Users/Octavio/Library/Python/3.8/lib/python/site-packages/ipykernel/kernelbase.py?line=1180'>1181</a>\u001b[0m     password\u001b[39m=\u001b[39;49m\u001b[39mFalse\u001b[39;49;00m,\n\u001b[1;32m   <a href='file:///Users/Octavio/Library/Python/3.8/lib/python/site-packages/ipykernel/kernelbase.py?line=1181'>1182</a>\u001b[0m )\n",
            "File \u001b[0;32m~/Library/Python/3.8/lib/python/site-packages/ipykernel/kernelbase.py:1219\u001b[0m, in \u001b[0;36mKernel._input_request\u001b[0;34m(self, prompt, ident, parent, password)\u001b[0m\n\u001b[1;32m   <a href='file:///Users/Octavio/Library/Python/3.8/lib/python/site-packages/ipykernel/kernelbase.py?line=1215'>1216</a>\u001b[0m             \u001b[39mbreak\u001b[39;00m\n\u001b[1;32m   <a href='file:///Users/Octavio/Library/Python/3.8/lib/python/site-packages/ipykernel/kernelbase.py?line=1216'>1217</a>\u001b[0m \u001b[39mexcept\u001b[39;00m \u001b[39mKeyboardInterrupt\u001b[39;00m:\n\u001b[1;32m   <a href='file:///Users/Octavio/Library/Python/3.8/lib/python/site-packages/ipykernel/kernelbase.py?line=1217'>1218</a>\u001b[0m     \u001b[39m# re-raise KeyboardInterrupt, to truncate traceback\u001b[39;00m\n\u001b[0;32m-> <a href='file:///Users/Octavio/Library/Python/3.8/lib/python/site-packages/ipykernel/kernelbase.py?line=1218'>1219</a>\u001b[0m     \u001b[39mraise\u001b[39;00m \u001b[39mKeyboardInterrupt\u001b[39;00m(\u001b[39m\"\u001b[39m\u001b[39mInterrupted by user\u001b[39m\u001b[39m\"\u001b[39m) \u001b[39mfrom\u001b[39;00m \u001b[39mNone\u001b[39m\n\u001b[1;32m   <a href='file:///Users/Octavio/Library/Python/3.8/lib/python/site-packages/ipykernel/kernelbase.py?line=1219'>1220</a>\u001b[0m \u001b[39mexcept\u001b[39;00m \u001b[39mException\u001b[39;00m:\n\u001b[1;32m   <a href='file:///Users/Octavio/Library/Python/3.8/lib/python/site-packages/ipykernel/kernelbase.py?line=1220'>1221</a>\u001b[0m     \u001b[39mself\u001b[39m\u001b[39m.\u001b[39mlog\u001b[39m.\u001b[39mwarning(\u001b[39m\"\u001b[39m\u001b[39mInvalid Message:\u001b[39m\u001b[39m\"\u001b[39m, exc_info\u001b[39m=\u001b[39m\u001b[39mTrue\u001b[39;00m)\n",
            "\u001b[0;31mKeyboardInterrupt\u001b[0m: Interrupted by user"
          ]
        }
      ],
      "source": [
        "#Creamos una tupla con los meses con variable meses\n",
        "meses = (\"Enero\", \"Febrero\", \"Marzo\", \"Abril\", \"Mayo\", \"Junio\", \"Julio\", \"Agosto\", \"Septiembre\", \"Octubre\",\n",
        "\"Noviembre\", \"Diciembre\")\n",
        "#variable numero, pedimos el numero\n",
        "numero = int(input(\"Dame un numero: \"))\n",
        "#ciclo si el numero esta entre los numeros de meses \n",
        "while (numero!=0):\n",
        "  if(numero>=1 and numero<=len(meses)):\n",
        "    print(meses[numero-1])\n",
        "    numero = int(input(\"Dame un numero: \"))\n",
        "  else:\n",
        "    print(\"Inserta un número entre 1 y \",len(meses))\n",
        "    numero = int(input(\"Dame un numero: \"))\n",
        "else:\n",
        "  print('adios')"
      ]
    }
  ],
  "metadata": {
    "colab": {
      "name": "Untitled0.ipynb",
      "provenance": []
    },
    "kernelspec": {
      "display_name": "Python 3",
      "name": "python3"
    },
    "language_info": {
      "codemirror_mode": {
        "name": "ipython",
        "version": 3
      },
      "file_extension": ".py",
      "mimetype": "text/x-python",
      "name": "python",
      "nbconvert_exporter": "python",
      "pygments_lexer": "ipython3",
      "version": "3.8.9"
    }
  },
  "nbformat": 4,
  "nbformat_minor": 0
}
