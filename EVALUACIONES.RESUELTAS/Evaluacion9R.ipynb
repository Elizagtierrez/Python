{
 "cells": [
  {
   "cell_type": "code",
   "execution_count": 1,
   "metadata": {},
   "outputs": [
    {
     "name": "stdout",
     "output_type": "stream",
     "text": [
      "1 la multiplicación de: 5 * 3\n",
      "Respuesta correcta\n",
      "Tuviste 1 respuestas correctas\n",
      "2 la multiplicación de: 10 * 9\n",
      "Respuesta correcta\n",
      "Tuviste 2 respuestas correctas\n",
      "3 la multiplicación de: 10 * 3\n",
      "Respuesta correcta\n",
      "Tuviste 3 respuestas correctas\n",
      "4 la multiplicación de: 2 * 2\n",
      "Respuesta correcta\n",
      "Tuviste 4 respuestas correctas\n",
      "5 la multiplicación de: 7 * 2\n",
      "Respuesta correcta\n",
      "Tuviste 5 respuestas correctas\n",
      "6 la multiplicación de: 4 * 8\n",
      "La respuesta correcta es 32\n",
      "Tuviste 5 respuestas correctas\n",
      "7 la multiplicación de: 10 * 2\n",
      "Respuesta correcta\n",
      "Tuviste 6 respuestas correctas\n",
      "8 la multiplicación de: 3 * 6\n",
      "Respuesta correcta\n",
      "Tuviste 7 respuestas correctas\n",
      "9 la multiplicación de: 10 * 2\n",
      "Respuesta correcta\n",
      "Tuviste 8 respuestas correctas\n",
      "10 la multiplicación de: 4 * 3\n",
      "Respuesta correcta\n",
      "Tuviste 9 respuestas correctas\n"
     ]
    }
   ],
   "source": [
    "##Práctica 9. Programación funcional. (6 puntos)\n",
    "#Ejercicio 1 (2 puntos)\n",
    "#Realice un programa que pregunte aleatoriamente una multiplicación. El programa debe indicar si la respuesta ha sido correcta o no (en caso que la respuesta sea incorrecta el programa debe indicar cuál es la correcta). El programa preguntará 10 multiplicaciones, y al finalizar mostrará el número de aciertos.\n",
    "\n",
    "#Análisis\n",
    "#Hacemos un bucle con 10 iteraciones, en cada iteración se inicializan dos números con un valor aleatorio (de 2 a 10). Se calcula la multiplicación.\n",
    "#Mostramos la multiplicación, y pedimos por teclado el resultado. Si coincide con la multiplicación calculada cuento un acierto, sino escribimos un mensaje de error mostrando el resultado correcto. Cuando salimos del bucle mostramos el número de aciertos.\n",
    "#Ejemplo. imprime una multiplicacion (9 * 8 = )por teclado se ingresa la respuesta, eso pasa 10 veces y al final nos imprime cuantas respuestas fueron correctas\n",
    "\n",
    "#Recuerda el import random\n",
    "\n",
    "\n",
    "import random #Impostamos random\n",
    "def mult(): #creamos funcion\n",
    "    c = 1 #Creamos variable contador \n",
    "    a = 0 #Creamos variable aciertos \n",
    "    c2 = 0 #Creamos variable contador 2\n",
    "    while c <= 10: #Creamos bucle con 10 interacciones\n",
    "        n1 = random.randint(2,10) #Variable de num1 y num2\n",
    "        n2 = random.randint(2,10)\n",
    "        r = n1 * n2 #operación\n",
    "        print(f'{c} la multiplicación de: {n1} * {n2}')\n",
    "        a = int(input('Resultado: '))\n",
    "        if(a == r):\n",
    "            print('Respuesta correcta')\n",
    "            c2 += 1\n",
    "        else:\n",
    "            print(f'La respuesta correcta es {r}')\n",
    "        c += 1\n",
    "        print(f'Tuviste {c2} respuestas correctas')\n",
    "mult()\n"
   ]
  },
  {
   "cell_type": "code",
   "execution_count": 6,
   "metadata": {},
   "outputs": [
    {
     "name": "stdout",
     "output_type": "stream",
     "text": [
      "[0, 1, 4, 9, 16, 25, 36, 49, 64, 81, 100]\n"
     ]
    }
   ],
   "source": [
    "#Ejercicio2\n",
    "#Obtener el cuadrado de todos los elementos en la lista.\n",
    "#Lista: [1,2,3,4,5,6,7,8,9,10]\n",
    "#Creamos lista\n",
    "lista = []\n",
    "#Creamos el rango\n",
    "for numero in range(0,11):\n",
    "    lista.append(numero**2) #Agregamos a la lista la operación cuadrada\n",
    "print(lista)    #Inprimimos "
   ]
  },
  {
   "cell_type": "code",
   "execution_count": 7,
   "metadata": {},
   "outputs": [
    {
     "data": {
      "text/plain": [
       "<map at 0x10f98b070>"
      ]
     },
     "execution_count": 7,
     "metadata": {},
     "output_type": "execute_result"
    }
   ],
   "source": [
    "def cuadrado(numero):\n",
    "        return numero**2\n",
    "numeros = [1,2,3,4,5,6,7,8,9,10]\n",
    "map(cuadrado, numeros)"
   ]
  },
  {
   "cell_type": "code",
   "execution_count": 8,
   "metadata": {},
   "outputs": [
    {
     "data": {
      "text/plain": [
       "[1, 4, 9, 16, 25, 36, 49, 64, 81, 100]"
      ]
     },
     "execution_count": 8,
     "metadata": {},
     "output_type": "execute_result"
    }
   ],
   "source": [
    "list(map(cuadrado,numeros)) #mostrar en la lista"
   ]
  },
  {
   "cell_type": "code",
   "execution_count": 8,
   "metadata": {},
   "outputs": [
    {
     "data": {
      "text/plain": [
       "<filter at 0x7f9dae7150d0>"
      ]
     },
     "execution_count": 8,
     "metadata": {},
     "output_type": "execute_result"
    }
   ],
   "source": [
    "#Ejercicio 3 (2 puntos)\n",
    "#Obtener la cantidad de elementos mayores a 5 en la tupla.\n",
    "\n",
    "#tupla = (5,2,6,7,8,10,77,55,2,1,30,4,2,3)\n",
    "def mayor(numero):\n",
    "  if numero >= 5:\n",
    "    return True\n",
    "\n",
    "numeros = [5,2,6,7,8,10,77,55,2,1,30,4,2,3]\n",
    "\n",
    "filter(mayor, numeros)\n"
   ]
  },
  {
   "cell_type": "code",
   "execution_count": 9,
   "metadata": {},
   "outputs": [
    {
     "data": {
      "text/plain": [
       "[5, 6, 7, 8, 10, 77, 55, 30]"
      ]
     },
     "execution_count": 9,
     "metadata": {},
     "output_type": "execute_result"
    }
   ],
   "source": [
    "def mayor(numero):\n",
    "  if numero >= 5:\n",
    "    return True\n",
    "\n",
    "numeros = [5,2,6,7,8,10,77,55,2,1,30,4,2,3]\n",
    "list(filter(mayor,numeros))"
   ]
  },
  {
   "cell_type": "code",
   "execution_count": 1,
   "metadata": {},
   "outputs": [
    {
     "name": "stdout",
     "output_type": "stream",
     "text": [
      "10\n"
     ]
    }
   ],
   "source": [
    "#Ejercicio 4 \n",
    "#Obtener la suma de todos los elementos en la lista\n",
    "#lista = [1,2,3,4]\n",
    "\n",
    "def add(x, y):\n",
    "      return x + y\n",
    "      \n",
    "lista = [1, 2, 3, 4]\n",
    "print(reduce(add, lista))"
   ]
  }
 ],
 "metadata": {
  "interpreter": {
   "hash": "36e4401a0aa056e6fc921640424d91f72ba873e2c5cbbfc74643893a5e8dc82b"
  },
  "kernelspec": {
   "display_name": "Python 2.7.13",
   "language": "python",
   "name": "python3"
  },
  "language_info": {
   "codemirror_mode": {
    "name": "ipython",
    "version": 3
   },
   "file_extension": ".py",
   "mimetype": "text/x-python",
   "name": "python",
   "nbconvert_exporter": "python",
   "pygments_lexer": "ipython3",
   "version": "3.9.7"
  },
  "orig_nbformat": 4
 },
 "nbformat": 4,
 "nbformat_minor": 2
}
