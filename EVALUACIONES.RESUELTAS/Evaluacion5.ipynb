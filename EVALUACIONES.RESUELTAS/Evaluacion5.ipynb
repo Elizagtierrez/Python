{
 "cells": [
  {
   "cell_type": "code",
   "execution_count": 1,
   "metadata": {},
   "outputs": [
    {
     "name": "stdout",
     "output_type": "stream",
     "text": [
      "Número positivo\n"
     ]
    }
   ],
   "source": [
    "#5 Práctica 5. Operadores relacionales. (6 puntos)\n",
    "#5.1 Ejercicio 1 (2 puntos)\n",
    "#Programa que imprima si el número es positivo o negativo\n",
    "\n",
    "\n",
    "num1 = int(input(\"Escribe un número\"))\n",
    "if num1 >= 0:\n",
    "    print(\"Número positivo\")\n",
    "else:\n",
    "    print(\"Número negativo\")"
   ]
  },
  {
   "cell_type": "code",
   "execution_count": 2,
   "metadata": {},
   "outputs": [
    {
     "name": "stdout",
     "output_type": "stream",
     "text": [
      "El número ingresado esta en el rango de 1 a 7\n"
     ]
    }
   ],
   "source": [
    "#5.2 Ejercicio 2 (2 puntos)\n",
    "#Programa que imprima si el número ingresado esta en el rango de 1 a 7\n",
    "\n",
    "#Importamos random para nuestros números \n",
    "import random\n",
    "# Creamos variable num con parametro de 1 al 7\n",
    "num = random.randint(1,8)\n",
    "#Variable del usuario con valor 0\n",
    "num_usu = 0\n",
    "#Variable del usuario que ingrese el número\n",
    "num_usu = int (input(\"Ingresa un número\"))\n",
    "#Si el número se encuentra entre el rango de 1-7 \n",
    "if num_usu < 8:\n",
    " \n",
    "        print(\"El número ingresado esta en el rango de 1 a 7\")\n",
    "#Si no \n",
    "else:\n",
    "        print(\"El número ingresado no esta en el rango\")\n",
    "  "
   ]
  },
  {
   "cell_type": "code",
   "execution_count": 3,
   "metadata": {},
   "outputs": [
    {
     "name": "stdout",
     "output_type": "stream",
     "text": [
      "Incorrecto\n"
     ]
    }
   ],
   "source": [
    "#5.3 Ejercicio 3 (2 puntos)\n",
    "#Programa que solicite un monto y que solicite el interés mensual, \n",
    "#si el interés es mayor al 30% nos imprimirá que es incorrecto, \n",
    "#si es menor realizará el cálculo e imprimira el monto con su interés adicionado.\n",
    "#Creamos las variables monto e interés, solicitamos informacion\n",
    "monto = float(input(\"Ingresa el monto: \"))\n",
    "interes = int(input(\"Ingresa el interés mensual: \"))\n",
    "#creamos condicional\n",
    "if interes > 30:\n",
    "    print(\"Incorrecto\")\n",
    "else: \n",
    "    interes < 30\n",
    "    calculo = monto + (monto * interes/10) \n",
    "    print(calculo)"
   ]
  }
 ],
 "metadata": {
  "interpreter": {
   "hash": "676b49eb53a8bf5d8d3b13d60417e167472df5aaf53d887583b7865427312a7f"
  },
  "kernelspec": {
   "display_name": "Python 3.9.7",
   "language": "python",
   "name": "python3"
  },
  "language_info": {
   "codemirror_mode": {
    "name": "ipython",
    "version": 3
   },
   "file_extension": ".py",
   "mimetype": "text/x-python",
   "name": "python",
   "nbconvert_exporter": "python",
   "pygments_lexer": "ipython3",
   "version": "3.9.7"
  },
  "orig_nbformat": 4
 },
 "nbformat": 4,
 "nbformat_minor": 2
}
